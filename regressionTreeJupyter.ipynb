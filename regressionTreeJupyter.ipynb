{
  "nbformat": 4,
  "nbformat_minor": 0,
  "metadata": {
    "colab": {
      "name": "q3.ipynb",
      "provenance": []
    },
    "kernelspec": {
      "name": "python3",
      "display_name": "Python 3"
    }
  },
  "cells": [
    {
      "cell_type": "code",
      "metadata": {
        "id": "pVPIv8hTz6pG",
        "colab_type": "code",
        "outputId": "579b63ae-ad81-4401-ab04-2182e10ba5b8",
        "colab": {
          "base_uri": "https://localhost:8080/",
          "height": 34
        }
      },
      "source": [
        "from google.colab import drive\n",
        "drive.mount('/content/drive')\n"
      ],
      "execution_count": 0,
      "outputs": [
        {
          "output_type": "stream",
          "text": [
            "Drive already mounted at /content/drive; to attempt to forcibly remount, call drive.mount(\"/content/drive\", force_remount=True).\n"
          ],
          "name": "stdout"
        }
      ]
    },
    {
      "cell_type": "code",
      "metadata": {
        "id": "ndJYQaW0z8HM",
        "colab_type": "code",
        "colab": {}
      },
      "source": [
        "#importing libraries\n",
        "import numpy as np\n",
        "import pandas as pd\n",
        "import math\n",
        "\n",
        "from scipy.spatial import distance\n",
        "from collections import Counter\n",
        "from sklearn.model_selection import train_test_split\n",
        "from scipy import stats\n",
        "import seaborn as sns\n"
      ],
      "execution_count": 0,
      "outputs": []
    },
    {
      "cell_type": "code",
      "metadata": {
        "id": "B0MuNULl0VP8",
        "colab_type": "code",
        "colab": {}
      },
      "source": [
        "#uploading training data, test data to run the decision tree classifier \n",
        "#and test_label to calculate r2 score\n",
        "training_data_dataFrame = pd.read_csv('/content/drive/My Drive/q3/train.csv')\n",
        "test_data_dataFrame=pd.read_csv('/content/drive/My Drive/q3/test.csv')\n",
        "test_label_dataFrame = pd.read_csv('/content/drive/My Drive/q3/test_labels.csv',header=None)\n",
        "\n"
      ],
      "execution_count": 0,
      "outputs": []
    },
    {
      "cell_type": "code",
      "metadata": {
        "id": "ZzM9rFhQ0aGA",
        "colab_type": "code",
        "colab": {}
      },
      "source": [
        "#Before Preprocessing copying the DataFrame to new DataFrame\n",
        "dataFrameForClean = training_data_dataFrame.copy()\n",
        "column_names = dataFrameForClean.columns\n"
      ],
      "execution_count": 0,
      "outputs": []
    },
    {
      "cell_type": "code",
      "metadata": {
        "id": "bfBA-BBq1cZL",
        "colab_type": "code",
        "colab": {}
      },
      "source": [
        "#PreProcessing Step 1: find all the columns where null values is more than 80% of training\n",
        "#data\n",
        "drop_columns=[]\n",
        "for i in column_names:\n",
        "    if dataFrameForClean[i].isnull().sum() > 800:\n",
        "      drop_columns.append(i)\n",
        "      # dataFrameForClean.drop([i],axis=1,inplace=True)\n"
      ],
      "execution_count": 0,
      "outputs": []
    },
    {
      "cell_type": "code",
      "metadata": {
        "id": "akmKHvBQ1ep_",
        "colab_type": "code",
        "colab": {}
      },
      "source": [
        "#PreProcessing Step 2: drop all the columns where null values is more than 80% of training\n",
        "#data\n",
        "dataFrameForClean.drop(drop_columns,axis=1,inplace=True)\n"
      ],
      "execution_count": 0,
      "outputs": []
    },
    {
      "cell_type": "code",
      "metadata": {
        "id": "X-c3I9hZ1jtV",
        "colab_type": "code",
        "colab": {}
      },
      "source": [
        "#PreProcessing Step 3: drop all the columns where null values is more than 80%, \n",
        "# we have dropped columns from training data so we need to drop from training data as wee\n",
        "test_data_dataFrame.drop(drop_columns,axis=1,inplace=True)"
      ],
      "execution_count": 0,
      "outputs": []
    },
    {
      "cell_type": "code",
      "metadata": {
        "id": "_6Mh1dtD13JW",
        "colab_type": "code",
        "colab": {}
      },
      "source": [
        "#find all the categorial columns and save it in (categorial_columns)\n",
        "categorial_columns=dataFrameForClean.dtypes[dataFrameForClean.dtypes == \"object\"].index\n"
      ],
      "execution_count": 0,
      "outputs": []
    },
    {
      "cell_type": "code",
      "metadata": {
        "id": "E1wX2d3D2G5X",
        "colab_type": "code",
        "colab": {}
      },
      "source": [
        "#Now we have two Dataframe , one for training and other for testing \n",
        "#save all the categorial and Numerical variable of both Dataframe\n",
        "#After that replace NONE in the data Frame with \"nan\" value\n",
        "#Now for the categorial columns , replace it with mode\n",
        "#Now for the numerical columns , repplace it with mean\n",
        "\n",
        "\n",
        "categorial_columns=dataFrameForClean.dtypes[dataFrameForClean.dtypes == \"object\"].index\n",
        "test_data_categorial_columns=test_data_dataFrame.dtypes[test_data_dataFrame.dtypes == \"object\"].index\n",
        "\n",
        "#now find the numerical features\n",
        "numerical_columns=dataFrameForClean.dtypes[dataFrameForClean.dtypes != \"object\"].index\n",
        "test_data_numerical_columns=test_data_dataFrame.dtypes[test_data_dataFrame.dtypes != \"object\"].index\n",
        "\n",
        "dataFrameForClean.replace('None',np.nan,inplace=True)\n",
        "test_data_dataFrame.replace('None',np.nan,inplace = True)\n",
        "\n",
        "\n",
        "\n",
        "for col in categorial_columns:\n",
        "  dataFrameForClean.fillna(dataFrameForClean.mode().iloc[0],inplace=True)\n",
        "  \n",
        "\n",
        "for col in test_data_categorial_columns:\n",
        "  test_data_dataFrame.fillna(test_data_dataFrame.mode().iloc[0],inplace=True)\n",
        "\n",
        "\n",
        "\n",
        "\n",
        "for col in numerical_columns:\n",
        "  dataFrameForClean.fillna(dataFrameForClean.mean(),inplace=True)\n",
        "  \n",
        "\n",
        "for col in test_data_numerical_columns:\n",
        "  test_data_dataFrame.fillna(test_data_dataFrame.mean(),inplace=True)"
      ],
      "execution_count": 0,
      "outputs": []
    },
    {
      "cell_type": "code",
      "metadata": {
        "id": "q30GMhKjU_Xh",
        "colab_type": "code",
        "colab": {}
      },
      "source": [
        "#finding columns whose covariance with sales price is <0.4\n",
        "#source: kaggle\n",
        "#and saving [col_name,covar] in columnDelBecauseOfCoVar\n",
        "#saving only col value in columnNeedToDelBsOfCoVar\n",
        "columnDelBecauseOfCoVar=[]\n",
        "columnNeedToDelBsOfCoVar=[]\n",
        "for col in numerical_columns:\n",
        "  if(col == 'Id'):\n",
        "     continue\n",
        "  if dataFrameForClean[col].corr(dataFrameForClean['SalePrice']) < 0.4:\n",
        "    #print(col)\n",
        "    #print(dataFrameForClean[col].corr(dataFrameForClean['SalePriceAfterLog']));\n",
        "    columnDelBecauseOfCoVar.append([col,dataFrameForClean[col].corr(dataFrameForClean['SalePrice'])])\n",
        "    columnNeedToDelBsOfCoVar.append(col)"
      ],
      "execution_count": 0,
      "outputs": []
    },
    {
      "cell_type": "code",
      "metadata": {
        "id": "Maw4R6cSVcyI",
        "colab_type": "code",
        "colab": {}
      },
      "source": [
        "# for col in columnNeedToDelBsOfCoVar:\n",
        "  dataFrameForClean.drop(columnNeedToDelBsOfCoVar,axis=1,inplace=True)\n",
        "  test_data_dataFrame.drop(columnNeedToDelBsOfCoVar,axis=1,inplace=True)"
      ],
      "execution_count": 0,
      "outputs": []
    },
    {
      "cell_type": "code",
      "metadata": {
        "id": "I38CHs4jWSsA",
        "colab_type": "code",
        "colab": {}
      },
      "source": [
        "#saving the non categorial values of data frame in list\n",
        "numerical_columns=dataFrameForClean.dtypes[dataFrameForClean.dtypes != \"object\"].index\n"
      ],
      "execution_count": 0,
      "outputs": []
    },
    {
      "cell_type": "code",
      "metadata": {
        "id": "v6FtmWoh2tvN",
        "colab_type": "code",
        "colab": {}
      },
      "source": [
        "# the below function give the value of categorial function at which we need to split \n",
        "#\n",
        "def get_msr_for_categorical(col, dataFrame):\n",
        "  uniqueValues = dataFrame[col].unique()\n",
        "  col_specific_value=None\n",
        "  col_value=0\n",
        "  prev_msr=math.inf\n",
        "  for feature in uniqueValues:\n",
        "    same=dataFrameForClean[dataFrameForClean[col]==feature]\n",
        "    large=dataFrameForClean[dataFrameForClean[col]!=feature]\n",
        "    # print('same:',same.shape)\n",
        "    # print('large',large.shape)\n",
        "    same = same.to_numpy()\n",
        "    large = large.to_numpy()\n",
        "    A=same[:,[-1]]\n",
        "    B=large[:,[-1]]\n",
        "    \n",
        "    msr1=0\n",
        "    msr2=0\n",
        "    msr1=((A-np.mean(A))**2)\n",
        "    msr2=((B-np.mean(B))**2)\n",
        "    \n",
        "\n",
        "    \n",
        "\n",
        "    total = same.shape[0] + large.shape[0]\n",
        "    wmsr = int((sum(msr1)*len(same) + sum(msr2)*len(large))/total)\n",
        "    # print('wmsr:',wmsr,':feature:',feature)\n",
        "    \n",
        "    if((wmsr)<prev_msr):\n",
        "      prev_msr = wmsr\n",
        "      col_specific_value = feature\n",
        "\n",
        "  # print(type(prev_msr),prev_msr)\n",
        "  return prev_msr , col_specific_value\n",
        "\n"
      ],
      "execution_count": 0,
      "outputs": []
    },
    {
      "cell_type": "code",
      "metadata": {
        "id": "kOqixsUb26ps",
        "colab_type": "code",
        "colab": {}
      },
      "source": [
        "# for the column containing non-categorial values , we are finding \n",
        "#msr value for each point in integer value \n",
        "#this function is a helper function for\n",
        "#get_msr_for_int(col,data_frame)\n",
        "def get_msr_for_int_mid_value(mid_value,col,data_frame):\n",
        "  # data_frame = data_frame.to_numpy()\n",
        "  small_values_dataFrame = data_frame[data_frame[col]<mid_value]\n",
        "  \n",
        "  large_value_dataFrame = data_frame[data_frame[col]>=mid_value]\n",
        "  \n",
        "  large_value_dataFrame=large_value_dataFrame.to_numpy()\n",
        "  \n",
        "  small_values_dataFrame=small_values_dataFrame.to_numpy()\n",
        "\n",
        "  # print('large_value',len(large_value_dataFrame))\n",
        "  # print('small_value',len(small_values_dataFrame))\n",
        "  \n",
        "  B=large_value_dataFrame[:,[-1]]\n",
        "  \n",
        "  A=small_values_dataFrame[:,[-1]]\n",
        "  \n",
        "  msr1=0\n",
        "  msr2=0\n",
        "\n",
        "\n",
        "  \n",
        "  msr1=((A-np.mean(A))**2)\n",
        "  msr2=((B-np.mean(B))**2)\n",
        "    \n",
        "\n",
        "    \n",
        "\n",
        "  total = small_values_dataFrame.shape[0] + large_value_dataFrame.shape[0]\n",
        "  wmsr = int((sum(msr1)*len(small_values_dataFrame) + sum(msr2)*len(large_value_dataFrame))/total)\n",
        "    \n",
        " \n",
        "  return (wmsr);\n"
      ],
      "execution_count": 0,
      "outputs": []
    },
    {
      "cell_type": "code",
      "metadata": {
        "id": "53l5g7-C6hpH",
        "colab_type": "code",
        "colab": {}
      },
      "source": [
        "#The below function return the msr for non-categorial columns,the value at  \n",
        "#which we need to split\n",
        "def get_msr_for_int(col,data_frame):\n",
        "  uniqueValues = data_frame[col].unique()\n",
        "  \n",
        "  uniqueValues.sort()\n",
        "\n",
        "  prev_msr = math.inf\n",
        "  \n",
        "  prev_mean =None\n",
        "  \n",
        " # for i in range(len(uniqueValues)):\n",
        "  for i in range(len(uniqueValues)-1):\n",
        "\n",
        "    (mid_value) = float(uniqueValues[i] + uniqueValues[i+1] ) /2\n",
        "    # print('mid_value',mid_value)\n",
        "    curr_msr = get_msr_for_int_mid_value(mid_value,col,data_frame)\n",
        "\n",
        "    # print('curr_msr:',curr_msr,':prev_msr ',prev_msr)\n",
        "    if curr_msr < prev_msr:\n",
        "      \n",
        "      prev_msr = curr_msr\n",
        "      prev_mean = mid_value\n",
        "\n",
        "  # print('get_msr_for_int','prev_msr',prev_msr,'prev_mean',prev_mean,'col' , col)\n",
        "  return prev_msr , prev_mean , col\n",
        "\n"
      ],
      "execution_count": 0,
      "outputs": []
    },
    {
      "cell_type": "code",
      "metadata": {
        "id": "bimNw4-z8VWp",
        "colab_type": "code",
        "colab": {}
      },
      "source": [
        "#it iterates in all the columns for the data Frame\n",
        "#and find the value at which we need to split,and return the column name \n",
        "#in case of both categorial and non-categorial\n",
        "def get_col_to_split(dataFrame):\n",
        "  prev_msr = math.inf\n",
        "  value=None\n",
        "  col_value=None\n",
        "  \n",
        "  for col in dataFrame.columns:\n",
        "    if col == \"SalePrice\" or col == \"Id\":\n",
        "      continue\n",
        "    \n",
        "    if(dataFrame[col].dtype == \"object\"):\n",
        "      curr_msr , mean_value = get_msr_for_categorical(col,dataFrame)\n",
        "      #print('get_col_to_split,cate',curr_msr , mean_value)\n",
        "    else:\n",
        "      curr_msr , mean_value ,col = get_msr_for_int(col,dataFrame)\n",
        "      #print('get_col_to_split,int',curr_msr , mean_value,col)\n",
        "    #print(curr_msr , mean_value , col)  \n",
        "\n",
        "    if(curr_msr < prev_msr):\n",
        "      prev_msr = curr_msr\n",
        "      value = mean_value\n",
        "      col_value = col\n",
        "      #print(col_value , value )\n",
        "     \n",
        "\n",
        "    \n",
        "  #if(dataFrameForClean[col_value].dtypes == 'Object'):\n",
        "  return col_value , value\n"
      ],
      "execution_count": 0,
      "outputs": []
    },
    {
      "cell_type": "code",
      "metadata": {
        "id": "Ft_XD-_4_l5c",
        "colab_type": "code",
        "colab": {}
      },
      "source": [
        "#The below function splits the dataFrame into two \n",
        "#In case of int ,one for less than splitting value and other for greater that equal to \n",
        "#splitting value \n",
        "#In case of categorial, one for equal to splitting value and Other for not equal to \n",
        "#splitting value\n",
        "def get_data_frame(training_data_build,splitting_value,col):\n",
        "  print('training_data_build',training_data_build.shape[0])\n",
        "  if dataFrameForClean[col].dtype == \"object\":\n",
        "     mask = training_data_build[col] == splitting_value\n",
        "     training_data_small = training_data_build[mask]\n",
        "     training_data_large = training_data_build[~mask]\n",
        "     print('training_data_small',training_data_small.shape[0],'training_data_large',training_data_large.shape[0])\n",
        "     return training_data_small , training_data_large\n",
        "  else:\n",
        "    mask = training_data_build[col] < splitting_value\n",
        "    training_data_small = training_data_build[mask]\n",
        "    training_data_large = training_data_build[~mask]\n",
        "    print('training_data_small',training_data_small.shape[0],'training_data_large',training_data_large.shape[0])\n",
        "    return training_data_small , training_data_large\n"
      ],
      "execution_count": 0,
      "outputs": []
    },
    {
      "cell_type": "code",
      "metadata": {
        "id": "h0XocGCdAroC",
        "colab_type": "code",
        "colab": {}
      },
      "source": [
        "#structure of tree node\n",
        "class Node:\n",
        "  def __init__(self):\n",
        "    self.left = None\n",
        "    self.right = None\n",
        "    self.leaf = 0\n",
        "    self.splitting_value = None\n",
        "    self.col  = None\n"
      ],
      "execution_count": 0,
      "outputs": []
    },
    {
      "cell_type": "code",
      "metadata": {
        "id": "1rJjdIGtAwQY",
        "colab_type": "code",
        "colab": {}
      },
      "source": [
        "#The function builds the tree , the depth of tree not to give as user argument \n",
        "#the minimum size of dataFrae alse,these two act as a base condition for recursion\n",
        "\n",
        "def build_tree(training_data_build, max_depth, min_size,depth):\n",
        "  root = Node()\n",
        "  if depth > max_depth:\n",
        "    splitting_value=training_data_build['SalePrice'].mean();\n",
        "    root.leaf = 1\n",
        "    root.splitting_value = splitting_value;\n",
        "    # print('depth',splitting_value)\n",
        "    # print('@'*30)\n",
        "    # print(training_data_build.shape[0])\n",
        "    # print('@'*30)\n",
        "    return root\n",
        "\n",
        "  if training_data_build.shape[0] < 20:\n",
        "    splitting_value=training_data_build['SalePrice'].mean();\n",
        "    root.leaf = True\n",
        "    root.splitting_value = splitting_value;\n",
        "    # print('size',splitting_value)\n",
        "    # print('@'*30)\n",
        "    # print(training_data_build.shape[0])\n",
        "    # print('@'*30)\n",
        "    return root\n",
        "\n",
        "  col , splitting_value = get_col_to_split(training_data_build)\n",
        "  training_data_small , training_data_large  = get_data_frame(training_data_build,splitting_value,col)\n",
        "  print('splitting',splitting_value,' col:',col)\n",
        "  print('small',training_data_small.shape[0])\n",
        "  print('large',training_data_large.shape[0])\n",
        "  del training_data_small[col]\n",
        "  del training_data_large[col]\n",
        "\n",
        "  #print(splitting_value)\n",
        "  \n",
        "  \n",
        "  \n",
        "  root.splitting_value = splitting_value\n",
        "  root.col = col\n",
        "  # print(splitting_value,'-',col,'-',depth)\n",
        "  \n",
        "  root.left = build_tree(training_data_small,max_depth,min_size,depth + 1)\n",
        "\n",
        "  root.right =  build_tree(training_data_large,max_depth,min_size,depth +1)\n",
        "  print('root.spli:',root.splitting_value,':root:',root.col,':depth:',depth,'leaf:',root.left)\n",
        "  return root\n"
      ],
      "execution_count": 0,
      "outputs": []
    },
    {
      "cell_type": "code",
      "metadata": {
        "id": "qP1gQECAA94g",
        "colab_type": "code",
        "colab": {}
      },
      "source": [
        "#creates the tree and return the root address\n",
        "root1 = build_tree(dataFrameForClean,6,0,0)"
      ],
      "execution_count": 0,
      "outputs": []
    },
    {
      "cell_type": "code",
      "metadata": {
        "id": "9IqznoiJCpkG",
        "colab_type": "code",
        "colab": {}
      },
      "source": [
        "#function to pint the inorder\n",
        "def printInorder(root1,depth):\n",
        "  if root1:\n",
        "    print(root1.splitting_value,root1.col,root1.leaf,depth)\n",
        "    printInorder(root1.left,depth+1)\n",
        "    printInorder(root1.right,depth+1)\n",
        "    \n",
        "   \n",
        "    "
      ],
      "execution_count": 0,
      "outputs": []
    },
    {
      "cell_type": "code",
      "metadata": {
        "id": "csrzdc9ME-nJ",
        "colab_type": "code",
        "colab": {}
      },
      "source": [
        "#find_ans is a prediction function , to find the predicted value correspond to \n",
        "#test case\n",
        "def find_ans(row,root1):\n",
        "  \n",
        "  if root1.left==None and root1.right==None:\n",
        "    print('leaf',root1.splitting_value)\n",
        "    return root1.splitting_value\n",
        "  print('root1.col',root1.col,dataFrameForClean[root1.col].dtypes)\n",
        "  # print ( 'compare between:', dataFrameForClean[root1.col] , '!!!!!!', row[root1.col],' ==', root1.splitting_value)\n",
        "  if(dataFrameForClean[root1.col].dtypes == \"object\"):\n",
        "    \n",
        "    if(row[root1.col] == root1.splitting_value):\n",
        "      print('going left',root1.splitting_value)\n",
        "      \n",
        "      return find_ans(row,root1.left)\n",
        "    else:\n",
        "      print('going right',root1.splitting_value)\n",
        "      return find_ans(row,root1.right)\n",
        "  else:\n",
        "    \n",
        "    if(row[root1.col] < root1.splitting_value):\n",
        "      print('g t left',root1.splitting_value)\n",
        "      return find_ans(row,root1.left)\n",
        "    \n",
        "    else:\n",
        "      print('g to right',root1.splitting_value)\n",
        "      return find_ans(row,root1.right)\n",
        "\n"
      ],
      "execution_count": 0,
      "outputs": []
    },
    {
      "cell_type": "code",
      "metadata": {
        "id": "3aww5CZMFDAk",
        "colab_type": "code",
        "colab": {}
      },
      "source": [
        "#final answer is a list , which contains all the predicted values corresponding to \n",
        "#test file\n",
        "final_answer=[]\n",
        "\n",
        "for i in range(0,len(test_data_dataFrame)):\n",
        "  final_answer.append(find_ans(test_data_dataFrame.iloc[i],root1))\n"
      ],
      "execution_count": 0,
      "outputs": []
    },
    {
      "cell_type": "code",
      "metadata": {
        "id": "ti5bm2YBYDGl",
        "colab_type": "code",
        "colab": {}
      },
      "source": [
        "#Reading the test_label_dataFrame file to verify it\n",
        "test_label_dataFrame = pd.read_csv('/content/drive/My Drive/q3/test_labels.csv',header=None)\n"
      ],
      "execution_count": 0,
      "outputs": []
    },
    {
      "cell_type": "code",
      "metadata": {
        "id": "gsO7E4nTFMP2",
        "colab_type": "code",
        "colab": {}
      },
      "source": [
        "#dropping the 1st column from test_label_file , to give it as a argument to \n",
        "#r2 function\n",
        "test_label_dataFrame.drop(test_label_dataFrame.columns[0], axis=1,inplace = True)"
      ],
      "execution_count": 0,
      "outputs": []
    },
    {
      "cell_type": "code",
      "metadata": {
        "id": "vHSzV2RADkIC",
        "colab_type": "code",
        "colab": {}
      },
      "source": [
        "#converting to numpy array\n",
        "test_label_dataFrame= test_label_dataFrame.to_numpy()"
      ],
      "execution_count": 0,
      "outputs": []
    },
    {
      "cell_type": "code",
      "metadata": {
        "id": "vd7jJ9JjFSGz",
        "colab_type": "code",
        "colab": {}
      },
      "source": [
        "from sklearn.metrics import r2_score"
      ],
      "execution_count": 0,
      "outputs": []
    },
    {
      "cell_type": "code",
      "metadata": {
        "id": "OgikBqr5FXKw",
        "colab_type": "code",
        "outputId": "2ec8a619-7b18-4acd-912d-675a254a8888",
        "colab": {
          "base_uri": "https://localhost:8080/",
          "height": 34
        }
      },
      "source": [
        "#R-squared (R2) is a statistical measure that represents the proportion of the variance for a \n",
        "#dependent variable that's explained by an independent variable or variables in a regression model\n",
        "# the higher the R-squared, the better the model fits your data.\n",
        "r2_score(test_label_dataFrame,final_answer)"
      ],
      "execution_count": 0,
      "outputs": [
        {
          "output_type": "execute_result",
          "data": {
            "text/plain": [
              "0.7504721386291735"
            ]
          },
          "metadata": {
            "tags": []
          },
          "execution_count": 197
        }
      ]
    },
    {
      "cell_type": "code",
      "metadata": {
        "id": "2CPClIkEFZR-",
        "colab_type": "code",
        "colab": {}
      },
      "source": [
        ""
      ],
      "execution_count": 0,
      "outputs": []
    }
  ]
}